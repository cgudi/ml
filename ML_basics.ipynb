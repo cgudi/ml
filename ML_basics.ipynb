{
 "cells": [
  {
   "cell_type": "markdown",
   "metadata": {},
   "source": [
    "# Machine Learning:"
   ]
  },
  {
   "cell_type": "markdown",
   "metadata": {},
   "source": [
    "## Introduction and Applications:\n",
    "<pre>\n",
    "Machine Learning is the driving force behind lot of applications that we have just taken for granted. We are using all the below features, without realizing that these features are the applications of Machine Learning.<br>\n",
    "1. <span style=\"color:blue\">Virtual assistants</span> -  like Apple's Siri, Amazon's Alexa, Google's Now, Microsoft's Cortona, ... assist by finding the information when asked over voice.\n",
    "2. <span style=\"color:blue\">Traffic predictions while commuting</span> - like Google Maps, Online transportation networks like OLA, UBER, ...\n",
    "3. <span style=\"color:blue\">Videos surveillance</span> - Now a days video surveillance systems are powred by AI, that makes it possible to detect the crimes before they happen.\n",
    "4. <span style=\"color:blue\">Social Media Services</span> - from personalizing news feed to better adds targeting (people you may know, face recognition)\n",
    "5. <span style=\"color:blue\">Email spam or ham</span>\n",
    "6. <span style=\"color:blue\">Online customer support using chatbox</span>\n",
    "7. <span style=\"color:blue\">Product recommendations</span>\n",
    "</pre>"
   ]
  },
  {
   "cell_type": "markdown",
   "metadata": {},
   "source": [
    "## What is ML:\n",
    "<pre>\n",
    "Machine Learning is a computer program or system that can learn how to perform a task based on the experince. As the experience increases the performance of the task should also increase. In case of ML, experience is data.\n",
    "\n",
    "<span style=\"color:blue\">Formal Definition:</span>\n",
    "A computer program is said to learn from experience E with respect to some class of tasks T and performance measure P, if its performance at tasks in T, as measured by P, improves with experience E.\n",
    "</pre>"
   ]
  },
  {
   "cell_type": "markdown",
   "metadata": {},
   "source": [
    "## When to use ML:\n",
    "* difficult for humans to express rules\n",
    "* large amount of historical data available\n",
    "* patterns or relationships are dynamic\n",
    "<pre>\n",
    "<span style=\"color:blue\">1. Rule based approach</span> \n",
    "   Contains set of rules.\n",
    "   Rules are static.\n",
    "   Rules don't change rapidly, they change slowly over time based on new research by a human analyst.\n",
    "\n",
    "   Eg: Commute time calculation:\n",
    "       IF(day=monday, time=10:00, distance=4km), THEN commute_time = 40 Mins\n",
    "<span style=\"color:blue\">2. ML based approach</span>\n",
    "   Collects large amount of data.\n",
    "   Uses an algorithm to find the relation between the data and commute time.\n",
    "   Updates the relationship continuosly with new data.\n",
    "</pre>"
   ]
  },
  {
   "cell_type": "markdown",
   "metadata": {},
   "source": [
    "## Types of ML:\n",
    "* **Supervised Learning**\n",
    "* **Unsupervised Learning**\n",
    "* **Semi-supervised Learning**\n",
    "* **Reinforment Learning**"
   ]
  },
  {
   "cell_type": "markdown",
   "metadata": {},
   "source": [
    "# Data preprocessing:"
   ]
  },
  {
   "cell_type": "markdown",
   "metadata": {},
   "source": [
    "## Types of variables:\n",
    "\n",
    "    1. Categorical\n",
    "    2. Numeric\n",
    "\n",
    "<br>\n",
    "\n",
    "\n",
    "**1. Categorical (Qualitative)** - describes quality or characteristic of a data unit\n",
    "* **Nominal** - Can not be ordered<br>\n",
    "**Eg:**\n",
    "    1. Male, Female - gender cannot be ordered\n",
    "    2. Red, Blue, Green - color cannot be ordered\n",
    "\n",
    "\n",
    "* **Ordinal**  - Can be ordered<br>\n",
    "**Eg:**\n",
    "    1. small, medium, large - sizes can be ordered\n",
    "    2. A, B, C - grades can be ordered\n",
    "\n",
    "<br>\n",
    "\n",
    "**2. Numeric**\n",
    "* **Discrete** - Data that has distinguishable spaces between the values<br>\n",
    "**Eg:** 1, 2, 3, ..\n",
    "\n",
    "\n",
    "* **Continuous** - Values that fall on a continuum, which has infinite no. of possible values with in the selected range<br>\n",
    "**Eg:** 1.0123, 2.456, ..."
   ]
  },
  {
   "cell_type": "markdown",
   "metadata": {},
   "source": [
    "## importing the dataset:\n",
    "* Distinguish dependent variables and independent variables.\n",
    "* Use independent variables to predict dependent variables."
   ]
  },
  {
   "cell_type": "code",
   "execution_count": 1,
   "metadata": {},
   "outputs": [
    {
     "data": {
      "text/html": [
       "<div>\n",
       "<style scoped>\n",
       "    .dataframe tbody tr th:only-of-type {\n",
       "        vertical-align: middle;\n",
       "    }\n",
       "\n",
       "    .dataframe tbody tr th {\n",
       "        vertical-align: top;\n",
       "    }\n",
       "\n",
       "    .dataframe thead th {\n",
       "        text-align: right;\n",
       "    }\n",
       "</style>\n",
       "<table border=\"1\" class=\"dataframe\">\n",
       "  <thead>\n",
       "    <tr style=\"text-align: right;\">\n",
       "      <th></th>\n",
       "      <th>Country</th>\n",
       "      <th>Age</th>\n",
       "      <th>Salary</th>\n",
       "      <th>Purchased</th>\n",
       "    </tr>\n",
       "  </thead>\n",
       "  <tbody>\n",
       "    <tr>\n",
       "      <th>0</th>\n",
       "      <td>France</td>\n",
       "      <td>44.0</td>\n",
       "      <td>72000.0</td>\n",
       "      <td>No</td>\n",
       "    </tr>\n",
       "    <tr>\n",
       "      <th>1</th>\n",
       "      <td>Spain</td>\n",
       "      <td>27.0</td>\n",
       "      <td>48000.0</td>\n",
       "      <td>Yes</td>\n",
       "    </tr>\n",
       "    <tr>\n",
       "      <th>2</th>\n",
       "      <td>Germany</td>\n",
       "      <td>30.0</td>\n",
       "      <td>54000.0</td>\n",
       "      <td>No</td>\n",
       "    </tr>\n",
       "    <tr>\n",
       "      <th>3</th>\n",
       "      <td>Spain</td>\n",
       "      <td>38.0</td>\n",
       "      <td>61000.0</td>\n",
       "      <td>No</td>\n",
       "    </tr>\n",
       "    <tr>\n",
       "      <th>4</th>\n",
       "      <td>Germany</td>\n",
       "      <td>40.0</td>\n",
       "      <td>NaN</td>\n",
       "      <td>Yes</td>\n",
       "    </tr>\n",
       "  </tbody>\n",
       "</table>\n",
       "</div>"
      ],
      "text/plain": [
       "   Country   Age   Salary Purchased\n",
       "0   France  44.0  72000.0        No\n",
       "1    Spain  27.0  48000.0       Yes\n",
       "2  Germany  30.0  54000.0        No\n",
       "3    Spain  38.0  61000.0        No\n",
       "4  Germany  40.0      NaN       Yes"
      ]
     },
     "execution_count": 1,
     "metadata": {},
     "output_type": "execute_result"
    }
   ],
   "source": [
    "#importing libraries\n",
    "import numpy as np\n",
    "import pandas as pd\n",
    "import matplotlib.pyplot as plt\n",
    "\n",
    "#importing dataset\n",
    "dataset = pd.read_csv(\"datasets/Data.csv\")\n",
    "dataset.head()"
   ]
  },
  {
   "cell_type": "code",
   "execution_count": 2,
   "metadata": {},
   "outputs": [],
   "source": [
    "X = dataset.iloc[:,:-1].values\n",
    "y = dataset.iloc[:,3].values"
   ]
  },
  {
   "cell_type": "markdown",
   "metadata": {},
   "source": [
    "## handling missing values:\n",
    "* We should not remove any row because of any column is missing.\n",
    "* One way to handle this problem is to take the mean in place of missing values"
   ]
  },
  {
   "cell_type": "code",
   "execution_count": 3,
   "metadata": {},
   "outputs": [
    {
     "name": "stderr",
     "output_type": "stream",
     "text": [
      "C:\\Learnings\\Anaconda3\\lib\\site-packages\\sklearn\\utils\\deprecation.py:58: DeprecationWarning: Class Imputer is deprecated; Imputer was deprecated in version 0.20 and will be removed in 0.22. Import impute.SimpleImputer from sklearn instead.\n",
      "  warnings.warn(msg, category=DeprecationWarning)\n"
     ]
    }
   ],
   "source": [
    "from sklearn.preprocessing import Imputer\n",
    "imputer = Imputer(missing_values='NaN', strategy='mean', axis=0)\n",
    "X[:,1:3] = imputer.fit_transform(X[:,1:3])"
   ]
  },
  {
   "cell_type": "markdown",
   "metadata": {},
   "source": [
    "## handling categorical_features:\n",
    "* Since ML algorithms are good with numerics, all the mathematical equations should be represented in numbers.\n",
    "* We need to encode the text into numbers."
   ]
  },
  {
   "cell_type": "code",
   "execution_count": 4,
   "metadata": {},
   "outputs": [],
   "source": [
    "from sklearn.preprocessing import LabelEncoder\n",
    "labelencoder_X = LabelEncoder()\n",
    "X[:,0] = labelencoder_X.fit_transform(X[:,0])"
   ]
  },
  {
   "cell_type": "code",
   "execution_count": 5,
   "metadata": {},
   "outputs": [
    {
     "name": "stderr",
     "output_type": "stream",
     "text": [
      "C:\\Learnings\\Anaconda3\\lib\\site-packages\\sklearn\\preprocessing\\_encoders.py:371: FutureWarning: The handling of integer data will change in version 0.22. Currently, the categories are determined based on the range [0, max(values)], while in the future they will be determined based on the unique values.\n",
      "If you want the future behaviour and silence this warning, you can specify \"categories='auto'\".\n",
      "In case you used a LabelEncoder before this OneHotEncoder to convert the categories to integers, then you can now use the OneHotEncoder directly.\n",
      "  warnings.warn(msg, FutureWarning)\n",
      "C:\\Learnings\\Anaconda3\\lib\\site-packages\\sklearn\\preprocessing\\_encoders.py:392: DeprecationWarning: The 'categorical_features' keyword is deprecated in version 0.20 and will be removed in 0.22. You can use the ColumnTransformer instead.\n",
      "  \"use the ColumnTransformer instead.\", DeprecationWarning)\n"
     ]
    }
   ],
   "source": [
    "from sklearn.preprocessing import OneHotEncoder\n",
    "onehotencoder_X = OneHotEncoder(categorical_features=[0])\n",
    "X = onehotencoder_X.fit_transform(X).toarray()"
   ]
  },
  {
   "cell_type": "code",
   "execution_count": 6,
   "metadata": {},
   "outputs": [],
   "source": [
    "labelencoder_y = LabelEncoder()\n",
    "y = labelencoder_y.fit_transform(y)"
   ]
  },
  {
   "cell_type": "markdown",
   "metadata": {},
   "source": [
    "## Splitting the data:\n",
    "* Given dataset should be split into training and test datasets. "
   ]
  },
  {
   "cell_type": "code",
   "execution_count": 7,
   "metadata": {},
   "outputs": [],
   "source": [
    "from sklearn.model_selection import train_test_split\n",
    "X_train, X_test, y_train, y_test = train_test_split(X, y, test_size=0.2, random_state=0)"
   ]
  },
  {
   "cell_type": "markdown",
   "metadata": {},
   "source": [
    "## feature scaling:\n",
    "* Lot of ML algorithms are based on euclidian distance.\n",
    "<img src=\"images/data_preprocessing_1.png\" width=\"600\" height=\"600\" align=\"center\"/>\n",
    "* If the dependent variable values are not in the same scale, the higher value will dominate the lower value(lower value may become negligible).\n",
    "* feature scaling csn be done using standardization or normalization.\n",
    "<img src=\"images/data_preprocessing_2.png\" width=\"600\" height=\"600\" align=\"center\"/>\n",
    "$$SD = \\sqrt{\\sum_{i=1}^N \\frac{(x_i-mean)^2}{N}}$$"
   ]
  },
  {
   "cell_type": "code",
   "execution_count": 8,
   "metadata": {},
   "outputs": [],
   "source": [
    "from sklearn.preprocessing import StandardScaler\n",
    "SC_X = StandardScaler()\n",
    "X_train = SC_X.fit_transform(X_train)\n",
    "X_test = SC_X.transform(X_test)"
   ]
  },
  {
   "cell_type": "markdown",
   "metadata": {},
   "source": [
    "## Regression:\n",
    "    Regression analysis is a statistical process for estimating the relation among variables. i.e. the relation between dependent variable and one or more independent variables.\n",
    "<br>\n",
    "\n",
    "* **Simple linear regression**\n",
    "<img src=\"images/simple_linear_regression_1.png\" width=\"600\" height=\"600\" align=\"center\"/>\n",
    "<img src=\"images/simple_linear_regression_2.png\" width=\"600\" height=\"600\" align=\"center\"/>\n",
    "\n",
    "<br>\n",
    "\n",
    "* Best fitting line can be found using Ordinary Least Squares method.\n",
    "\n",
    "<br>\n",
    "\n",
    "* **Multiple linear regression**\n",
    "<img src=\"images/multiple_linear_regression_1.png\" width=\"500\" height=\"500\" align=\"center\"/>\n",
    "\n",
    "<br>\n",
    "\n"
   ]
  },
  {
   "cell_type": "code",
   "execution_count": 54,
   "metadata": {},
   "outputs": [],
   "source": [
    "#simple linear regression\n",
    "import numpy as np\n",
    "import matplotlib.pyplot as plt\n",
    "import pandas as pd\n",
    "\n",
    "dataset = pd.read_csv(\"datasets/simple_linear_regression_1.csv\")\n",
    "dataset = pd.read_csv(\"datasets/simple_linear_regression_1.csv\")\n",
    "X = dataset.iloc[:,:-1].values\n",
    "y = dataset.iloc[:,1].values"
   ]
  },
  {
   "cell_type": "code",
   "execution_count": 55,
   "metadata": {},
   "outputs": [],
   "source": [
    "from sklearn.model_selection import train_test_split\n",
    "X_train, X_test, y_train, y_test = train_test_split(X, y, test_size=1/3, random_state=0)"
   ]
  },
  {
   "cell_type": "code",
   "execution_count": 56,
   "metadata": {},
   "outputs": [],
   "source": [
    "from sklearn.linear_model import LinearRegression\n",
    "regressor = LinearRegression()\n",
    "regressor.fit(X_train, y_train)\n",
    "\n",
    "#predicting the salaries\n",
    "y_pred = regressor.predict(X_test)"
   ]
  },
  {
   "cell_type": "code",
   "execution_count": 61,
   "metadata": {},
   "outputs": [
    {
     "data": {
      "image/png": "[encoded data removed]",
      "text/plain": [
       "<Figure size 432x288 with 1 Axes>"
      ]
     },
     "metadata": {
      "needs_background": "light"
     },
     "output_type": "display_data"
    }
   ],
   "source": [
    "#visualising the training set results\n",
    "plt.scatter(X_train, y_train, color='red')\n",
    "plt.plot(X_train, regressor.predict(X_train), color='blue')\n",
    "plt.title(\"Experience vs Salary (Training set)\")\n",
    "plt.xlabel(\"Experience\")\n",
    "plt.ylabel(\"Salary\")\n",
    "plt.show()"
   ]
  },
  {
   "cell_type": "code",
   "execution_count": 65,
   "metadata": {},
   "outputs": [
    {
     "data": {
      "image/png": "[encoded data removed]",
      "text/plain": [
       "<Figure size 432x288 with 1 Axes>"
      ]
     },
     "metadata": {
      "needs_background": "light"
     },
     "output_type": "display_data"
    }
   ],
   "source": [
    "#visualising the test set results\n",
    "plt.scatter(X_test, y_test, color='red')\n",
    "plt.plot(X_train, regressor.predict(X_train), color='blue')\n",
    "plt.title(\"Experience vs Salary (Test set)\")\n",
    "plt.xlabel(\"Experience\")\n",
    "plt.ylabel(\"Salary\")\n",
    "plt.show()"
   ]
  },
  {
   "cell_type": "code",
   "execution_count": 66,
   "metadata": {},
   "outputs": [
    {
     "data": {
      "text/plain": [
       "0.9381900012894278"
      ]
     },
     "execution_count": 66,
     "metadata": {},
     "output_type": "execute_result"
    }
   ],
   "source": [
    "regressor.score(X_train, y_train)"
   ]
  }
 ],
 "metadata": {
  "kernelspec": {
   "display_name": "Python 3",
   "language": "python",
   "name": "python3"
  },
  "language_info": {
   "codemirror_mode": {
    "name": "ipython",
    "version": 3
   },
   "file_extension": ".py",
   "mimetype": "text/x-python",
   "name": "python",
   "nbconvert_exporter": "python",
   "pygments_lexer": "ipython3",
   "version": "3.7.3"
  }
 },
 "nbformat": 4,
 "nbformat_minor": 2
}
